{
 "cells": [
  {
   "cell_type": "code",
   "execution_count": 7,
   "id": "1263f9b4-825e-4fae-9206-4a32e6ae4367",
   "metadata": {},
   "outputs": [
    {
     "name": "stdin",
     "output_type": "stream",
     "text": [
      "Digite se tem pelo longo (1=Sim, 0=Não):  1\n",
      "Digite se tem perna curta (1=Sim, 0=Não):  0\n",
      "Digite se faz \"Au Au\" (1=Sim, 0=Não):  1\n"
     ]
    },
    {
     "name": "stdout",
     "output_type": "stream",
     "text": [
      "O resultado é ['Cachorro']\n"
     ]
    }
   ],
   "source": [
    "import numpy as np\n",
    "import pandas as pd \n",
    "from sklearn.neighbors import KNeighborsClassifier\n",
    "\n",
    "df = pd.read_csv('animal.csv')\n",
    "\n",
    "dados = np.array(df.drop('Animal', 1)) \n",
    "rotulos = np.array(df['Animal'])\n",
    "\n",
    "knn = KNeighborsClassifier(3) \n",
    "knn.fit(dados, rotulos)\n",
    "\n",
    "#exemplo = [3,3,0,3] # A chance de dar um valor\n",
    "\n",
    "exemplo = [] \n",
    "exemplo.append(float(input('Digite se tem pelo longo (1=Sim, 0=Não): ')))\n",
    "exemplo.append(float(input('Digite se tem perna curta (1=Sim, 0=Não): '))) \n",
    "exemplo.append(float(input('Digite se faz \"Au Au\" (1=Sim, 0=Não): ')))\n",
    "\n",
    "resultado = knn.predict([exemplo])\n",
    "\n",
    "print(f'O resultado é {resultado}')"
   ]
  },
  {
   "cell_type": "code",
   "execution_count": null,
   "id": "22bc3bcb-9dc6-498a-8648-b9f8260e9f74",
   "metadata": {},
   "outputs": [],
   "source": []
  }
 ],
 "metadata": {
  "kernelspec": {
   "display_name": "Python 3",
   "language": "python",
   "name": "python3"
  },
  "language_info": {
   "codemirror_mode": {
    "name": "ipython",
    "version": 3
   },
   "file_extension": ".py",
   "mimetype": "text/x-python",
   "name": "python",
   "nbconvert_exporter": "python",
   "pygments_lexer": "ipython3",
   "version": "3.8.5"
  }
 },
 "nbformat": 4,
 "nbformat_minor": 5
}
